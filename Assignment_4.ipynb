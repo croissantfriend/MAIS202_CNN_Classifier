{
 "cells": [
  {
   "cell_type": "code",
   "execution_count": null,
   "metadata": {
    "collapsed": false,
    "jupyter": {
     "outputs_hidden": false
    },
    "pycharm": {
     "name": "#%%\n"
    }
   },
   "outputs": [],
   "source": [
    "## Imports\n",
    "!pip install tensorflow\n",
    "import numpy as np\n",
    "import matplotlib.pyplot as plt\n",
    "import tensorflow as tf\n",
    "import scipy\n",
    "from tensorflow.keras import layers, models\n",
    "from tensorflow.keras.preprocessing.image import ImageDataGenerator"
   ]
  },
  {
   "cell_type": "code",
   "execution_count": null,
   "metadata": {
    "collapsed": false,
    "jupyter": {
     "outputs_hidden": false
    },
    "pycharm": {
     "name": "#%%\n"
    }
   },
   "outputs": [],
   "source": [
    "## Load training data\n",
    "train_images = np.load(\"train_x.npy\")\n",
    "train_labels = np.genfromtxt(\"train_y.csv\", delimiter=\",\", names=True, dtype=int)[\"Label\"]"
   ]
  },
  {
   "cell_type": "code",
   "execution_count": null,
   "metadata": {
    "collapsed": false,
    "jupyter": {
     "outputs_hidden": false
    },
    "pycharm": {
     "name": "#%%\n"
    }
   },
   "outputs": [],
   "source": [
    "## Load test data\n",
    "test_images = np.load(\"test_x.npy\")"
   ]
  },
  {
   "cell_type": "code",
   "execution_count": null,
   "metadata": {
    "collapsed": false,
    "jupyter": {
     "outputs_hidden": false
    },
    "pycharm": {
     "name": "#%%\n"
    }
   },
   "outputs": [],
   "source": [
    "## Reshape data into single-pixel arrays\n",
    "train_images = train_images.reshape(40000, 128, 128, 1)\n",
    "test_images = test_images.reshape(10000, 128, 128, 1)"
   ]
  },
  {
   "cell_type": "code",
   "execution_count": null,
   "metadata": {
    "collapsed": false,
    "jupyter": {
     "outputs_hidden": false
    },
    "pycharm": {
     "name": "#%%\n"
    }
   },
   "outputs": [],
   "source": [
    "## Initialize data generator and free up the massive npys\n",
    "train_datagen = ImageDataGenerator(\n",
    "    rescale=1./255,\n",
    "    horizontal_flip=True\n",
    "    # vertical_flip=True,\n",
    "    # validation_split=0.2\n",
    ")\n",
    "train_generator=train_datagen.flow(train_images, train_labels)\n",
    "del train_images\n",
    "del train_labels"
   ]
  },
  {
   "cell_type": "code",
   "execution_count": null,
   "metadata": {
    "collapsed": false,
    "jupyter": {
     "outputs_hidden": false
    },
    "pycharm": {
     "name": "#%%\n"
    }
   },
   "outputs": [],
   "source": [
    "## Do the same for the test set\n",
    "test_datagen = ImageDataGenerator(\n",
    "    rescale=1./255,\n",
    "    horizontal_flip=True\n",
    "    # vertical_flip=True,\n",
    "    # validation_split=0.2\n",
    ")\n",
    "test_generator=test_datagen.flow(test_images)\n",
    "# del test_images"
   ]
  },
  {
   "cell_type": "code",
   "execution_count": null,
   "metadata": {
    "collapsed": false,
    "jupyter": {
     "outputs_hidden": false
    },
    "pycharm": {
     "name": "#%%\n"
    }
   },
   "outputs": [],
   "source": [
    "## Show first batch of images with their label\n",
    "\n",
    "def show_train_image(image_index):\n",
    "    show_image(train_images[image_index])\n",
    "    print(\"Label: \", round(train_labels[image_index]))\n",
    "\n",
    "# def show_image(arr):\n",
    "#     two_d = (np.reshape(arr, (128, 128)) * 255).astype(np.uint8)\n",
    "#     plt.imshow(two_d, interpolation='nearest')\n",
    "#     plt.show()\n",
    "\n",
    "# def show_from_gen(arr):\n",
    "#     plt.imshow((arr * 255).astype(np.uint8), interpolation='nearest')\n",
    "#     plt.show()\n",
    "\n",
    "# for i in range(1):\n",
    "#     arr = next(train_generator)\n",
    "#     for j in range(6):\n",
    "#         show_from_gen(arr[0][j])\n",
    "#         print('Label: ', arr[1][j])"
   ]
  },
  {
   "cell_type": "code",
   "execution_count": null,
   "metadata": {
    "collapsed": false,
    "jupyter": {
     "outputs_hidden": false
    },
    "pycharm": {
     "name": "#%%\n"
    }
   },
   "outputs": [],
   "source": [
    "## Build the model\n",
    "seq = models.Sequential([\n",
    "    layers.Conv2D(32, (3,3), activation=\"relu\", strides=(2,2), input_shape=(128, 128, 1)),\n",
    "    layers.MaxPooling2D((2,2)),\n",
    "    # layers.Dropout(0.2),\n",
    "    layers.Conv2D(32, (3, 3), activation='relu'),\n",
    "    layers.MaxPooling2D((2,2)),\n",
    "    # # layers.Dropout(0.2),\n",
    "    layers.Conv2D(64, (3, 3), activation='relu'),\n",
    "    layers.MaxPooling2D((2,2)),\n",
    "    # layers.Conv2D(128, (3, 3), activation='relu'),\n",
    "    # layers.MaxPooling2D((2,2)),\n",
    "    layers.Flatten(),\n",
    "    # layers.Dropout(0.2),\n",
    "    # layers.Dense(64, activation='relu', kernel_regularizer=tf.keras.regularizers.l2(9e-4)),\n",
    "    layers.Dropout(0.5),\n",
    "    # layers.Dense(128, activation='relu'),\n",
    "    # layers.Dropout(0.5),\n",
    "    layers.Dense(64, activation='relu'),\n",
    "    # # layers.Dropout(0.5),\n",
    "    layers.Dense(10, activation='softmax')\n",
    "])\n",
    "seq.summary()"
   ]
  },
  {
   "cell_type": "code",
   "execution_count": null,
   "metadata": {
    "collapsed": false,
    "jupyter": {
     "outputs_hidden": false
    },
    "pycharm": {
     "name": "#%%\n"
    }
   },
   "outputs": [],
   "source": [
    "# seq = models.load_model(\"seq4.keras\")\n",
    "\n",
    "## Compile and fit the mode\n",
    "# l to the training set\n",
    "from tensorflow.keras.callbacks import ModelCheckpoint\n",
    "from tensorflow.keras.optimizers import Adam\n",
    "\n",
    "filename = \"seq6.keras\"\n",
    "\n",
    "# seq.compile(optimizer=Adam(),\n",
    "#            loss=tf.keras.losses.SparseCategoricalCrossentropy(from_logits=True),\n",
    "#            metrics=['accuracy'])\n",
    "\n",
    "\n",
    "checkpointing = ModelCheckpoint(filename, monitor='accuracy',\n",
    "                                       verbose=1, save_best_only=True, mode='max')\n",
    "\n",
    "# seq.fit(train_generator,\n",
    "#                         epochs=20,\n",
    "#                         workers=4,\n",
    "#                         callbacks=[checkpointing],\n",
    "#                         shuffle=True,\n",
    "#                     )"
   ]
  },
  {
   "cell_type": "code",
   "execution_count": null,
   "metadata": {
    "collapsed": false,
    "jupyter": {
     "outputs_hidden": false
    },
    "pycharm": {
     "is_executing": true,
     "name": "#%%\n"
    }
   },
   "outputs": [],
   "source": [
    "## Additional training\n",
    "seq = models.load_model('seq5.keras')\n",
    "seq.pop(); seq.pop(); seq.pop()\n",
    "seq.add(layers.Dense(64, activation='relu', name=\"added_1\"))\n",
    "seq.add(layers.Dropout(0.5))\n",
    "seq.add(layers.Dense(64, activation='relu', name=\"added_2\"))\n",
    "seq.add(layers.Dense(10, activation='softmax', name=\"added_3\"))\n",
    "seq.fit(train_generator,\n",
    "                        epochs=20,\n",
    "                        workers=4,\n",
    "                        callbacks=[checkpointing],\n",
    "                        shuffle=True,\n",
    "                    )"
   ]
  },
  {
   "cell_type": "code",
   "execution_count": null,
   "metadata": {
    "collapsed": false,
    "jupyter": {
     "outputs_hidden": false
    },
    "pycharm": {
     "name": "#%%\n"
    }
   },
   "outputs": [],
   "source": [
    "## Generating predictions on the test set\n",
    "\n",
    "pred = models.load_model('seq5.keras')\n",
    "pred.summary()\n",
    "predictions = pred.predict(test_generator, verbose=1)"
   ]
  },
  {
   "cell_type": "code",
   "execution_count": null,
   "metadata": {
    "collapsed": false,
    "jupyter": {
     "outputs_hidden": false
    },
    "pycharm": {
     "name": "#%%\n"
    }
   },
   "outputs": [],
   "source": [
    "print(predictions)\n",
    "for i in range(10):\n",
    "    show_image(test_images[i])\n",
    "    print(\"Predicted label: \", np.argmax(predictions[i]))"
   ]
  },
  {
   "cell_type": "code",
   "execution_count": null,
   "metadata": {
    "collapsed": false,
    "jupyter": {
     "outputs_hidden": false
    },
    "pycharm": {
     "name": "#%% Dump predictions to csv\n"
    }
   },
   "outputs": [],
   "source": [
    "id = np.arange(10000)\n",
    "category = np.array([np.argmax(predictions[i]) for i in range(len(predictions))])\n",
    "output = np.column_stack((id, category))\n",
    "print(output)\n",
    "np.savetxt(fname='predictions.csv', X=output, header='Id,Category', fmt=\"%d,%d\", comments='')"
   ]
  }
 ],
 "metadata": {
  "kernelspec": {
   "display_name": "Python 3",
   "language": "python",
   "name": "python3"
  },
  "language_info": {
   "codemirror_mode": {
    "name": "ipython",
    "version": 3
   },
   "file_extension": ".py",
   "mimetype": "text/x-python",
   "name": "python",
   "nbconvert_exporter": "python",
   "pygments_lexer": "ipython3",
   "version": "3.8.5"
  }
 },
 "nbformat": 4,
 "nbformat_minor": 4
}